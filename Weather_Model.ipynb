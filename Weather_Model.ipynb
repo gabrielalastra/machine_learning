{
  "nbformat": 4,
  "nbformat_minor": 0,
  "metadata": {
    "colab": {
      "name": "Weather_Model.ipynb",
      "provenance": [],
      "authorship_tag": "ABX9TyP0VU09ZCmxkJFd+QdpUeM3"
    },
    "kernelspec": {
      "name": "python3",
      "display_name": "Python 3"
    },
    "language_info": {
      "name": "python"
    }
  },
  "cells": [
    {
      "cell_type": "markdown",
      "source": [
        "<h5>Clustering</h5>\n",
        "<body>It is usefull when we have a bunch of input information or <br>features and don't hae any labels or open information.<br>\n",
        "Essentially, it's finds clusters of \"data points\" and tells us the location of those clusters.\n",
        "<br>We need to define the variable K, so how many clusters we want for K-means clustering.</body>\n",
        "<hr color=\"#00ffd1\">"
      ],
      "metadata": {
        "id": "rxwZv390EGYs"
      }
    },
    {
      "cell_type": "markdown",
      "source": [
        "<h5>Hidden Markov Models</h5>\n",
        "<body>A finete set of states with each one associated with a probability distribution.\n",
        "<br>Transitions among the states are governed by a set of probabilities.</body>\n",
        "<hr color=\"#00ffd1\">"
      ],
      "metadata": {
        "id": "JyacYNC2I_eb"
      }
    },
    {
      "cell_type": "code",
      "execution_count": 1,
      "metadata": {
        "id": "jReB6puhECp0"
      },
      "outputs": [],
      "source": [
        "%tensorflow_version 2.x"
      ]
    },
    {
      "cell_type": "code",
      "source": [
        "import tensorflow_probability as tfp\n",
        "import tensorflow as tf"
      ],
      "metadata": {
        "id": "NXWNY1bPIcAT"
      },
      "execution_count": 2,
      "outputs": []
    },
    {
      "cell_type": "markdown",
      "source": [
        "<h5>Weather Model</h5>\n",
        "<body><li>Cold days are encoded by 0 and Hot days are encoded by 1\n",
        "<li> The first day has 80% chance of being cold\n",
        "<li>A cold day has 30% chance of switch to a hot day\n",
        "<li>A hot day has 20% chance of switch to a cold day\n",
        "<li>Cold day has temperature:<br> mean: 0<br>standard deviation:5\n",
        "<li>Hot day has temperature:<br>\n",
        "mean: 15 <br>standard deviation: 10</body>\n",
        "<img align=\"right\" height=200 src=\"https://www.researchgate.net/profile/Siddhartha-Bhattacharyya-2/publication/279206735/figure/fig8/AS:667668017340429@1536195868345/Normal-distribution-with-three-standard-deviations-from-mean.png\"/>\n",
        "<br>\n",
        "<hr color=\"#00ffd1\">"
      ],
      "metadata": {
        "id": "pgU6A3_TN4PE"
      }
    },
    {
      "cell_type": "code",
      "source": [
        "#distribution\n",
        "tfd = tfp.distributions\n",
        "initial_d = tfd.Categorical(probs=[0.8,0.2]) #first day 80% cold and 20% to being followed by a cold\n",
        "transition_d = tfd.Categorical(probs=[[0.7,0.3], #cold day has 70% to keep cold and 30% to switch\n",
        "                               [0.2,0.8]]) #hot day has 20% to switch and 80% to keep hot\n",
        "observation_d = tfd.Normal(loc=[0.,15.], scale=[5.,10.]) #loc for mean and scale for std\n"
      ],
      "metadata": {
        "id": "tz_OemWkNr3l"
      },
      "execution_count": 13,
      "outputs": []
    },
    {
      "cell_type": "code",
      "source": [
        "model = tfd.HiddenMarkovModel(\n",
        "    initial_distribution = initial_d,\n",
        "    transition_distribution = transition_d,\n",
        "    observation_distribution = observation_d,\n",
        "    num_steps=7\n",
        ")"
      ],
      "metadata": {
        "id": "K3cMe4gJQBJf"
      },
      "execution_count": 14,
      "outputs": []
    },
    {
      "cell_type": "code",
      "source": [
        "mean = model.mean()\n",
        "with tf.compat.v1.Session() as sess:\n",
        "  print('The average temperature over the next 7 days probably is: \\n', \n",
        "        mean.numpy())"
      ],
      "metadata": {
        "colab": {
          "base_uri": "https://localhost:8080/"
        },
        "id": "rvXwaCQjRCo1",
        "outputId": "7778b6b1-200b-44c2-ac11-ba9b39683755"
      },
      "execution_count": 17,
      "outputs": [
        {
          "output_type": "stream",
          "name": "stdout",
          "text": [
            "The average temperature during the next 7 days probably will be: \n",
            " [2.9999998 5.9999995 7.4999995 8.25      8.625001  8.812501  8.90625  ]\n"
          ]
        }
      ]
    }
  ]
}