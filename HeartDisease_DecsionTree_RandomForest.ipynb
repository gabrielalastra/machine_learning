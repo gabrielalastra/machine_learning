{
  "nbformat": 4,
  "nbformat_minor": 0,
  "metadata": {
    "colab": {
      "name": "HeartDisease_DecsionTree_RandomForest.ipynb",
      "provenance": [],
      "mount_file_id": "1CbcuTNfOjkOxguI29-bPUAyyNLvo137C",
      "authorship_tag": "ABX9TyPeabie6g8wBDvuBcT/szgE",
      "include_colab_link": true
    },
    "kernelspec": {
      "name": "python3",
      "display_name": "Python 3"
    },
    "language_info": {
      "name": "python"
    }
  },
  "cells": [
    {
      "cell_type": "markdown",
      "metadata": {
        "id": "view-in-github",
        "colab_type": "text"
      },
      "source": [
        "<a href=\"https://colab.research.google.com/github/gabrielalastra/machine_learning/blob/main/HeartDisease_DecsionTree_RandomForest.ipynb\" target=\"_parent\"><img src=\"https://colab.research.google.com/assets/colab-badge.svg\" alt=\"Open In Colab\"/></a>"
      ]
    },
    {
      "cell_type": "markdown",
      "source": [
        "<body>\n",
        "<div align='center'>\n",
        "<h1>Decision Tree and Random Forests</h1>\n",
        "<h4>using the dataset on Heart Disease in Cleveland, donated to UCI Repository.</h4></div>\n",
        "<p> The column 'target' means N for no presence and Y fore presence in levels 1,2,3,4.\n",
        "<p>The information on the 14 attribute:\n",
        "<li>age--in years\n",
        "<li>sex--(1 = male; 0 = female)\n",
        "<li>cp--chest pain type (1: typical angina, 2: atypical angina, 3: non-anginal, pain 4: asymptomatic)\n",
        "<li>trestbps -- resting blood pressure\n",
        "<li>chol--serum cholesterol in mg/dl\n",
        "<li>fbs--fasting blood sugar > 120 mg/dl) (1 = true; 0 = false)\n",
        "<li>restecg--resting ecg (electrocardiographic) results\n",
        "<li>thalach--maximum heart rate achieved\n",
        "<li>exang--exercise induced angina (1 = yes; 0 = no)\n",
        "<li>oldpeak--ST depression induced by exercise relative to rest\n",
        "<li>slope--the slope of the peak exercise ST segment (1: upsloping, 2: flat, 3: downsloping)\n",
        "<li>ca-- number of major vessels (0-3) colored by flourosopy\n",
        "<li>thal-- 3 = normal; 6 = fixed defect; 7 = reversable defect\n",
        "<li>the predicted attribute (0, 1, 2, 3 4) -- In the processed dataset, this one is added as a new column 'target' with 'N' for 0 and 'Y' for 1,2,3 & 4.\n",
        "</body>\n"
      ],
      "metadata": {
        "id": "SrTVBJ9eNr9k"
      }
    },
    {
      "cell_type": "code",
      "execution_count": 2,
      "metadata": {
        "id": "iDivcMJEDJ0T"
      },
      "outputs": [],
      "source": [
        "import pandas as pd\n",
        "import numpy as np\n",
        "import matplotlib.pyplot as plt\n",
        "import seaborn as sns\n",
        "%matplotlib inline"
      ]
    },
    {
      "cell_type": "code",
      "source": [
        "df = pd.read_csv('/content/drive/MyDrive/Machine_Learning_Material/S_13_Trees/HD_Cleveland_Data_Clean.csv')"
      ],
      "metadata": {
        "id": "3x9WkYNGPfOV"
      },
      "execution_count": 3,
      "outputs": []
    },
    {
      "cell_type": "code",
      "source": [
        "df.head()"
      ],
      "metadata": {
        "colab": {
          "base_uri": "https://localhost:8080/",
          "height": 206
        },
        "id": "_kLU5Zs5PnKz",
        "outputId": "6c6bedf7-dca2-4c79-b93b-be7473a11efa"
      },
      "execution_count": 4,
      "outputs": [
        {
          "output_type": "execute_result",
          "data": {
            "text/html": [
              "\n",
              "  <div id=\"df-c735b024-28ad-414f-a352-481ce9e07b8d\">\n",
              "    <div class=\"colab-df-container\">\n",
              "      <div>\n",
              "<style scoped>\n",
              "    .dataframe tbody tr th:only-of-type {\n",
              "        vertical-align: middle;\n",
              "    }\n",
              "\n",
              "    .dataframe tbody tr th {\n",
              "        vertical-align: top;\n",
              "    }\n",
              "\n",
              "    .dataframe thead th {\n",
              "        text-align: right;\n",
              "    }\n",
              "</style>\n",
              "<table border=\"1\" class=\"dataframe\">\n",
              "  <thead>\n",
              "    <tr style=\"text-align: right;\">\n",
              "      <th></th>\n",
              "      <th>age</th>\n",
              "      <th>sex</th>\n",
              "      <th>cp</th>\n",
              "      <th>trestbps</th>\n",
              "      <th>chol</th>\n",
              "      <th>fbs</th>\n",
              "      <th>restecg</th>\n",
              "      <th>thalach</th>\n",
              "      <th>exang</th>\n",
              "      <th>oldpeak</th>\n",
              "      <th>slop</th>\n",
              "      <th>ca</th>\n",
              "      <th>thal</th>\n",
              "      <th>target</th>\n",
              "    </tr>\n",
              "  </thead>\n",
              "  <tbody>\n",
              "    <tr>\n",
              "      <th>0</th>\n",
              "      <td>63</td>\n",
              "      <td>1</td>\n",
              "      <td>1</td>\n",
              "      <td>145</td>\n",
              "      <td>233</td>\n",
              "      <td>1</td>\n",
              "      <td>2</td>\n",
              "      <td>150</td>\n",
              "      <td>0</td>\n",
              "      <td>2.3</td>\n",
              "      <td>3</td>\n",
              "      <td>0</td>\n",
              "      <td>6</td>\n",
              "      <td>N</td>\n",
              "    </tr>\n",
              "    <tr>\n",
              "      <th>1</th>\n",
              "      <td>67</td>\n",
              "      <td>1</td>\n",
              "      <td>4</td>\n",
              "      <td>160</td>\n",
              "      <td>286</td>\n",
              "      <td>0</td>\n",
              "      <td>2</td>\n",
              "      <td>108</td>\n",
              "      <td>1</td>\n",
              "      <td>1.5</td>\n",
              "      <td>2</td>\n",
              "      <td>3</td>\n",
              "      <td>3</td>\n",
              "      <td>Y</td>\n",
              "    </tr>\n",
              "    <tr>\n",
              "      <th>2</th>\n",
              "      <td>67</td>\n",
              "      <td>1</td>\n",
              "      <td>4</td>\n",
              "      <td>120</td>\n",
              "      <td>229</td>\n",
              "      <td>0</td>\n",
              "      <td>2</td>\n",
              "      <td>129</td>\n",
              "      <td>1</td>\n",
              "      <td>2.6</td>\n",
              "      <td>2</td>\n",
              "      <td>2</td>\n",
              "      <td>7</td>\n",
              "      <td>Y</td>\n",
              "    </tr>\n",
              "    <tr>\n",
              "      <th>3</th>\n",
              "      <td>37</td>\n",
              "      <td>1</td>\n",
              "      <td>3</td>\n",
              "      <td>130</td>\n",
              "      <td>250</td>\n",
              "      <td>0</td>\n",
              "      <td>0</td>\n",
              "      <td>187</td>\n",
              "      <td>0</td>\n",
              "      <td>3.5</td>\n",
              "      <td>3</td>\n",
              "      <td>0</td>\n",
              "      <td>3</td>\n",
              "      <td>N</td>\n",
              "    </tr>\n",
              "    <tr>\n",
              "      <th>4</th>\n",
              "      <td>41</td>\n",
              "      <td>0</td>\n",
              "      <td>2</td>\n",
              "      <td>130</td>\n",
              "      <td>204</td>\n",
              "      <td>0</td>\n",
              "      <td>2</td>\n",
              "      <td>172</td>\n",
              "      <td>0</td>\n",
              "      <td>1.4</td>\n",
              "      <td>1</td>\n",
              "      <td>0</td>\n",
              "      <td>3</td>\n",
              "      <td>N</td>\n",
              "    </tr>\n",
              "  </tbody>\n",
              "</table>\n",
              "</div>\n",
              "      <button class=\"colab-df-convert\" onclick=\"convertToInteractive('df-c735b024-28ad-414f-a352-481ce9e07b8d')\"\n",
              "              title=\"Convert this dataframe to an interactive table.\"\n",
              "              style=\"display:none;\">\n",
              "        \n",
              "  <svg xmlns=\"http://www.w3.org/2000/svg\" height=\"24px\"viewBox=\"0 0 24 24\"\n",
              "       width=\"24px\">\n",
              "    <path d=\"M0 0h24v24H0V0z\" fill=\"none\"/>\n",
              "    <path d=\"M18.56 5.44l.94 2.06.94-2.06 2.06-.94-2.06-.94-.94-2.06-.94 2.06-2.06.94zm-11 1L8.5 8.5l.94-2.06 2.06-.94-2.06-.94L8.5 2.5l-.94 2.06-2.06.94zm10 10l.94 2.06.94-2.06 2.06-.94-2.06-.94-.94-2.06-.94 2.06-2.06.94z\"/><path d=\"M17.41 7.96l-1.37-1.37c-.4-.4-.92-.59-1.43-.59-.52 0-1.04.2-1.43.59L10.3 9.45l-7.72 7.72c-.78.78-.78 2.05 0 2.83L4 21.41c.39.39.9.59 1.41.59.51 0 1.02-.2 1.41-.59l7.78-7.78 2.81-2.81c.8-.78.8-2.07 0-2.86zM5.41 20L4 18.59l7.72-7.72 1.47 1.35L5.41 20z\"/>\n",
              "  </svg>\n",
              "      </button>\n",
              "      \n",
              "  <style>\n",
              "    .colab-df-container {\n",
              "      display:flex;\n",
              "      flex-wrap:wrap;\n",
              "      gap: 12px;\n",
              "    }\n",
              "\n",
              "    .colab-df-convert {\n",
              "      background-color: #E8F0FE;\n",
              "      border: none;\n",
              "      border-radius: 50%;\n",
              "      cursor: pointer;\n",
              "      display: none;\n",
              "      fill: #1967D2;\n",
              "      height: 32px;\n",
              "      padding: 0 0 0 0;\n",
              "      width: 32px;\n",
              "    }\n",
              "\n",
              "    .colab-df-convert:hover {\n",
              "      background-color: #E2EBFA;\n",
              "      box-shadow: 0px 1px 2px rgba(60, 64, 67, 0.3), 0px 1px 3px 1px rgba(60, 64, 67, 0.15);\n",
              "      fill: #174EA6;\n",
              "    }\n",
              "\n",
              "    [theme=dark] .colab-df-convert {\n",
              "      background-color: #3B4455;\n",
              "      fill: #D2E3FC;\n",
              "    }\n",
              "\n",
              "    [theme=dark] .colab-df-convert:hover {\n",
              "      background-color: #434B5C;\n",
              "      box-shadow: 0px 1px 3px 1px rgba(0, 0, 0, 0.15);\n",
              "      filter: drop-shadow(0px 1px 2px rgba(0, 0, 0, 0.3));\n",
              "      fill: #FFFFFF;\n",
              "    }\n",
              "  </style>\n",
              "\n",
              "      <script>\n",
              "        const buttonEl =\n",
              "          document.querySelector('#df-c735b024-28ad-414f-a352-481ce9e07b8d button.colab-df-convert');\n",
              "        buttonEl.style.display =\n",
              "          google.colab.kernel.accessAllowed ? 'block' : 'none';\n",
              "\n",
              "        async function convertToInteractive(key) {\n",
              "          const element = document.querySelector('#df-c735b024-28ad-414f-a352-481ce9e07b8d');\n",
              "          const dataTable =\n",
              "            await google.colab.kernel.invokeFunction('convertToInteractive',\n",
              "                                                     [key], {});\n",
              "          if (!dataTable) return;\n",
              "\n",
              "          const docLinkHtml = 'Like what you see? Visit the ' +\n",
              "            '<a target=\"_blank\" href=https://colab.research.google.com/notebooks/data_table.ipynb>data table notebook</a>'\n",
              "            + ' to learn more about interactive tables.';\n",
              "          element.innerHTML = '';\n",
              "          dataTable['output_type'] = 'display_data';\n",
              "          await google.colab.output.renderOutput(dataTable, element);\n",
              "          const docLink = document.createElement('div');\n",
              "          docLink.innerHTML = docLinkHtml;\n",
              "          element.appendChild(docLink);\n",
              "        }\n",
              "      </script>\n",
              "    </div>\n",
              "  </div>\n",
              "  "
            ],
            "text/plain": [
              "   age  sex  cp  trestbps  chol  fbs  restecg  thalach  exang  oldpeak  slop  \\\n",
              "0   63    1   1       145   233    1        2      150      0      2.3     3   \n",
              "1   67    1   4       160   286    0        2      108      1      1.5     2   \n",
              "2   67    1   4       120   229    0        2      129      1      2.6     2   \n",
              "3   37    1   3       130   250    0        0      187      0      3.5     3   \n",
              "4   41    0   2       130   204    0        2      172      0      1.4     1   \n",
              "\n",
              "   ca  thal target  \n",
              "0   0     6      N  \n",
              "1   3     3      Y  \n",
              "2   2     7      Y  \n",
              "3   0     3      N  \n",
              "4   0     3      N  "
            ]
          },
          "metadata": {},
          "execution_count": 4
        }
      ]
    },
    {
      "cell_type": "code",
      "source": [
        "print('Null', df.isnull().value_counts())\n",
        "print('\\nNaN', df.isna().value_counts())"
      ],
      "metadata": {
        "colab": {
          "base_uri": "https://localhost:8080/"
        },
        "id": "HiFhVxX4P8pI",
        "outputId": "6d491ba3-5b6a-4d20-a81d-4fb4d7a05f45"
      },
      "execution_count": 5,
      "outputs": [
        {
          "output_type": "stream",
          "name": "stdout",
          "text": [
            "Null age    sex    cp     trestbps  chol   fbs    restecg  thalach  exang  oldpeak  slop   ca     thal   target\n",
            "False  False  False  False     False  False  False    False    False  False    False  False  False  False     297\n",
            "dtype: int64\n",
            "\n",
            "NaN age    sex    cp     trestbps  chol   fbs    restecg  thalach  exang  oldpeak  slop   ca     thal   target\n",
            "False  False  False  False     False  False  False    False    False  False    False  False  False  False     297\n",
            "dtype: int64\n"
          ]
        }
      ]
    },
    {
      "cell_type": "code",
      "source": [
        "plt.figure(figsize=(14,8))\n",
        "sns.heatmap(df.corr(), cmap='icefire')"
      ],
      "metadata": {
        "colab": {
          "base_uri": "https://localhost:8080/",
          "height": 504
        },
        "id": "JtIf4XhYQNji",
        "outputId": "6599b660-5ea1-4308-cfe5-6a099ef81db8"
      },
      "execution_count": 6,
      "outputs": [
        {
          "output_type": "execute_result",
          "data": {
            "text/plain": [
              "<matplotlib.axes._subplots.AxesSubplot at 0x7f9e0d7dfb10>"
            ]
          },
          "metadata": {},
          "execution_count": 6
        },
        {
          "output_type": "display_data",
          "data": {
            "image/png": "[encoded data removed]",
            "text/plain": [
              "<Figure size 1008x576 with 2 Axes>"
            ]
          },
          "metadata": {
            "needs_background": "light"
          }
        }
      ]
    },
    {
      "cell_type": "code",
      "source": [
        "plt.figure(figsize=(14,7))\n",
        "sns.countplot(data=df, x='age', hue='target', palette='seismic')"
      ],
      "metadata": {
        "colab": {
          "base_uri": "https://localhost:8080/",
          "height": 459
        },
        "id": "PuoNAb3AQfvK",
        "outputId": "64476fbb-f5fd-4e18-bbf1-0f5adf2f1148"
      },
      "execution_count": 7,
      "outputs": [
        {
          "output_type": "execute_result",
          "data": {
            "text/plain": [
              "<matplotlib.axes._subplots.AxesSubplot at 0x7f9e0a6d9b90>"
            ]
          },
          "metadata": {},
          "execution_count": 7
        },
        {
          "output_type": "display_data",
          "data": {
            "image/png": "[encoded data removed]",
            "text/plain": [
              "<Figure size 1008x504 with 1 Axes>"
            ]
          },
          "metadata": {
            "needs_background": "light"
          }
        }
      ]
    },
    {
      "cell_type": "code",
      "source": [
        "#1=male 0=female\n",
        "sns.jointplot(data=df, x='sex', y='age',hue='target', palette='seismic')"
      ],
      "metadata": {
        "colab": {
          "base_uri": "https://localhost:8080/",
          "height": 458
        },
        "id": "odQBYFvcR3QW",
        "outputId": "841ecb6b-1433-46d1-c4ec-49c2dbe5bab3"
      },
      "execution_count": 8,
      "outputs": [
        {
          "output_type": "execute_result",
          "data": {
            "text/plain": [
              "<seaborn.axisgrid.JointGrid at 0x7f9e0a0e0390>"
            ]
          },
          "metadata": {},
          "execution_count": 8
        },
        {
          "output_type": "display_data",
          "data": {
            "image/png": "[encoded data removed]",
            "text/plain": [
              "<Figure size 432x432 with 3 Axes>"
            ]
          },
          "metadata": {
            "needs_background": "light"
          }
        }
      ]
    },
    {
      "cell_type": "markdown",
      "source": [
        "<body><div align='right'>\n",
        "Higher frequency in men over 30 years old and womans between 55-65 years old.\n",
        "</body></div>"
      ],
      "metadata": {
        "id": "M7VLAP_9WXfR"
      }
    },
    {
      "cell_type": "code",
      "source": [
        "sns.jointplot(data=df, x='age', y='chol',hue='sex',palette='seismic')"
      ],
      "metadata": {
        "colab": {
          "base_uri": "https://localhost:8080/",
          "height": 458
        },
        "id": "6anJ6FFfTdLx",
        "outputId": "c97677bd-ad83-480b-f1db-a6c82aedceee"
      },
      "execution_count": 9,
      "outputs": [
        {
          "output_type": "execute_result",
          "data": {
            "text/plain": [
              "<seaborn.axisgrid.JointGrid at 0x7f9e07f1d9d0>"
            ]
          },
          "metadata": {},
          "execution_count": 9
        },
        {
          "output_type": "display_data",
          "data": {
            "image/png": "[encoded data removed]",
            "text/plain": [
              "<Figure size 432x432 with 3 Axes>"
            ]
          },
          "metadata": {
            "needs_background": "light"
          }
        }
      ]
    },
    {
      "cell_type": "markdown",
      "source": [
        "<h4>Decision Tree</h4>"
      ],
      "metadata": {
        "id": "KAhjlcvvvplQ"
      }
    },
    {
      "cell_type": "code",
      "source": [
        "X = df.drop('target', axis=1)\n",
        "y = df['target']"
      ],
      "metadata": {
        "id": "rS9ktHZUXlgn"
      },
      "execution_count": 10,
      "outputs": []
    },
    {
      "cell_type": "code",
      "source": [
        "from sklearn.model_selection import train_test_split"
      ],
      "metadata": {
        "id": "LGk3Wvlfv9MK"
      },
      "execution_count": 11,
      "outputs": []
    },
    {
      "cell_type": "code",
      "source": [
        "X_train, X_test, y_train, y_test = train_test_split(\n",
        "    X, y, test_size=0.33, random_state=42)"
      ],
      "metadata": {
        "id": "EKJ1oJpzwgOx"
      },
      "execution_count": 12,
      "outputs": []
    },
    {
      "cell_type": "code",
      "source": [
        "from sklearn.tree import DecisionTreeClassifier"
      ],
      "metadata": {
        "id": "fnNn26DMwof4"
      },
      "execution_count": 13,
      "outputs": []
    },
    {
      "cell_type": "code",
      "source": [
        "dtree = DecisionTreeClassifier()"
      ],
      "metadata": {
        "id": "YZxFv502xdtU"
      },
      "execution_count": 14,
      "outputs": []
    },
    {
      "cell_type": "code",
      "source": [
        "dtree.fit(X_train,y_train)"
      ],
      "metadata": {
        "colab": {
          "base_uri": "https://localhost:8080/"
        },
        "id": "N4w9Q26nxgWe",
        "outputId": "70159488-801d-417d-9219-32c8f4c0a589"
      },
      "execution_count": 15,
      "outputs": [
        {
          "output_type": "execute_result",
          "data": {
            "text/plain": [
              "DecisionTreeClassifier()"
            ]
          },
          "metadata": {},
          "execution_count": 15
        }
      ]
    },
    {
      "cell_type": "code",
      "source": [
        "from IPython.display import Image\n",
        "from six import StringIO\n",
        "from sklearn.tree import export_graphviz"
      ],
      "metadata": {
        "id": "XjE-gAJgxjQz"
      },
      "execution_count": 21,
      "outputs": []
    },
    {
      "cell_type": "code",
      "source": [
        "import pydot"
      ],
      "metadata": {
        "id": "B8Z0G9K0yghw"
      },
      "execution_count": 25,
      "outputs": []
    },
    {
      "cell_type": "code",
      "source": [
        "!pip install pydot"
      ],
      "metadata": {
        "colab": {
          "base_uri": "https://localhost:8080/"
        },
        "id": "65CLrWjFxxbZ",
        "outputId": "7cc57623-fbb3-4d26-a9ba-b94b06bc7d09"
      },
      "execution_count": 22,
      "outputs": [
        {
          "output_type": "stream",
          "name": "stdout",
          "text": [
            "Requirement already satisfied: pydot in /usr/local/lib/python3.7/dist-packages (1.3.0)\n",
            "Requirement already satisfied: pyparsing>=2.1.4 in /usr/local/lib/python3.7/dist-packages (from pydot) (3.0.7)\n"
          ]
        }
      ]
    },
    {
      "cell_type": "code",
      "source": [
        "features=df.columns[:-1]\n",
        "dot_data = StringIO()\n",
        "export_graphviz(dtree, out_file=dot_data, \n",
        "                feature_names=features,filled=True,rounded=True)\n",
        "\n",
        "graph = pydot.graph_from_dot_data(dot_data.getvalue())\n",
        "Image(graph[0].create_png())"
      ],
      "metadata": {
        "id": "5-o5GtusyS0f"
      },
      "execution_count": null,
      "outputs": []
    },
    {
      "cell_type": "code",
      "source": [
        "pred = dtree.predict(X_test)"
      ],
      "metadata": {
        "id": "SpaAt-vGycpJ"
      },
      "execution_count": 29,
      "outputs": []
    },
    {
      "cell_type": "code",
      "source": [
        "from sklearn.metrics import classification_report,confusion_matrix"
      ],
      "metadata": {
        "id": "q9wtNKXs3f2n"
      },
      "execution_count": 30,
      "outputs": []
    },
    {
      "cell_type": "code",
      "source": [
        "from sklearn.metrics import accuracy_score, confusion_matrix, r2_score\n"
      ],
      "metadata": {
        "id": "G8yNCl2p4THw"
      },
      "execution_count": 39,
      "outputs": []
    },
    {
      "cell_type": "code",
      "source": [
        "def plot_confusion_matrix(cm, classes=None, title='Confusion matrix'):\n",
        "    \"\"\"Plots a confusion matrix.\"\"\"\n",
        "    if classes is not None:\n",
        "        sns.heatmap(cm, xticklabels=classes, yticklabels=classes, \n",
        "                    vmin=0., vmax=1., annot=True, annot_kws={'size':50})\n",
        "    else:\n",
        "        sns.heatmap(cm, vmin=0., vmax=1.)\n",
        "    plt.title(title)\n",
        "    plt.ylabel('True label')\n",
        "    plt.xlabel('Predicted label')"
      ],
      "metadata": {
        "id": "gdP7ZK1R3h8c"
      },
      "execution_count": 37,
      "outputs": []
    },
    {
      "cell_type": "code",
      "source": [
        "cm = confusion_matrix(y_test, pred)\n",
        "cm_norm = cm/cm.sum(axis=1)[:, np.newaxis]\n",
        "plt.figure()\n",
        "plot_confusion_matrix(cm_norm, classes=dtree.classes_,\n",
        "                      title='\\nTraining confusion\\n\\n')"
      ],
      "metadata": {
        "colab": {
          "base_uri": "https://localhost:8080/",
          "height": 340
        },
        "id": "bVznmshl3tUJ",
        "outputId": "7fee2b58-2b67-4840-f95b-1ef683d4cddf"
      },
      "execution_count": 42,
      "outputs": [
        {
          "output_type": "display_data",
          "data": {
            "image/png": "[encoded data removed]",
            "text/plain": [
              "<Figure size 432x288 with 2 Axes>"
            ]
          },
          "metadata": {
            "needs_background": "light"
          }
        }
      ]
    },
    {
      "cell_type": "code",
      "source": [
        "for i, column in enumerate(df.drop('target', axis=1)):\n",
        "    print('Importance of feature {}:, {:.3f}'.format(column, dtree.feature_importances_[i]))\n",
        "    \n",
        "    fi = pd.DataFrame({'Variable': [column],\n",
        "                       'Feature Importance Score': [dtree.feature_importances_[i]]})\n",
        "    \n",
        "    try: #the others values\n",
        "        final_fi = pd.concat([final_fi,fi], ignore_index = True)\n",
        "    except: #the first value\n",
        "        final_fi = fi\n",
        "        \n",
        "        \n",
        "# Ordering the data\n",
        "final_fi = final_fi.sort_values('Feature Importance Score', ascending = False).reset_index()            \n",
        "final_fi"
      ],
      "metadata": {
        "colab": {
          "base_uri": "https://localhost:8080/",
          "height": 683
        },
        "id": "1mQPQMGk3zBz",
        "outputId": "832f9532-8067-435e-9795-daa6ea693051"
      },
      "execution_count": 44,
      "outputs": [
        {
          "output_type": "stream",
          "name": "stdout",
          "text": [
            "Importance of feature age:, 0.156\n",
            "Importance of feature sex:, 0.000\n",
            "Importance of feature cp:, 0.127\n",
            "Importance of feature trestbps:, 0.076\n",
            "Importance of feature chol:, 0.093\n",
            "Importance of feature fbs:, 0.010\n",
            "Importance of feature restecg:, 0.005\n",
            "Importance of feature thalach:, 0.040\n",
            "Importance of feature exang:, 0.000\n",
            "Importance of feature oldpeak:, 0.071\n",
            "Importance of feature slop:, 0.000\n",
            "Importance of feature ca:, 0.322\n",
            "Importance of feature thal:, 0.101\n"
          ]
        },
        {
          "output_type": "execute_result",
          "data": {
            "text/html": [
              "\n",
              "  <div id=\"df-f59b61c7-ab8d-450a-921a-75ae61ab92b1\">\n",
              "    <div class=\"colab-df-container\">\n",
              "      <div>\n",
              "<style scoped>\n",
              "    .dataframe tbody tr th:only-of-type {\n",
              "        vertical-align: middle;\n",
              "    }\n",
              "\n",
              "    .dataframe tbody tr th {\n",
              "        vertical-align: top;\n",
              "    }\n",
              "\n",
              "    .dataframe thead th {\n",
              "        text-align: right;\n",
              "    }\n",
              "</style>\n",
              "<table border=\"1\" class=\"dataframe\">\n",
              "  <thead>\n",
              "    <tr style=\"text-align: right;\">\n",
              "      <th></th>\n",
              "      <th>index</th>\n",
              "      <th>Variable</th>\n",
              "      <th>Feature Importance Score</th>\n",
              "    </tr>\n",
              "  </thead>\n",
              "  <tbody>\n",
              "    <tr>\n",
              "      <th>0</th>\n",
              "      <td>11</td>\n",
              "      <td>ca</td>\n",
              "      <td>0.322404</td>\n",
              "    </tr>\n",
              "    <tr>\n",
              "      <th>1</th>\n",
              "      <td>0</td>\n",
              "      <td>age</td>\n",
              "      <td>0.156383</td>\n",
              "    </tr>\n",
              "    <tr>\n",
              "      <th>2</th>\n",
              "      <td>2</td>\n",
              "      <td>cp</td>\n",
              "      <td>0.126688</td>\n",
              "    </tr>\n",
              "    <tr>\n",
              "      <th>3</th>\n",
              "      <td>12</td>\n",
              "      <td>thal</td>\n",
              "      <td>0.100949</td>\n",
              "    </tr>\n",
              "    <tr>\n",
              "      <th>4</th>\n",
              "      <td>4</td>\n",
              "      <td>chol</td>\n",
              "      <td>0.092812</td>\n",
              "    </tr>\n",
              "    <tr>\n",
              "      <th>5</th>\n",
              "      <td>3</td>\n",
              "      <td>trestbps</td>\n",
              "      <td>0.075536</td>\n",
              "    </tr>\n",
              "    <tr>\n",
              "      <th>6</th>\n",
              "      <td>9</td>\n",
              "      <td>oldpeak</td>\n",
              "      <td>0.070810</td>\n",
              "    </tr>\n",
              "    <tr>\n",
              "      <th>7</th>\n",
              "      <td>7</td>\n",
              "      <td>thalach</td>\n",
              "      <td>0.039570</td>\n",
              "    </tr>\n",
              "    <tr>\n",
              "      <th>8</th>\n",
              "      <td>5</td>\n",
              "      <td>fbs</td>\n",
              "      <td>0.009522</td>\n",
              "    </tr>\n",
              "    <tr>\n",
              "      <th>9</th>\n",
              "      <td>6</td>\n",
              "      <td>restecg</td>\n",
              "      <td>0.005326</td>\n",
              "    </tr>\n",
              "    <tr>\n",
              "      <th>10</th>\n",
              "      <td>1</td>\n",
              "      <td>sex</td>\n",
              "      <td>0.000000</td>\n",
              "    </tr>\n",
              "    <tr>\n",
              "      <th>11</th>\n",
              "      <td>8</td>\n",
              "      <td>exang</td>\n",
              "      <td>0.000000</td>\n",
              "    </tr>\n",
              "    <tr>\n",
              "      <th>12</th>\n",
              "      <td>10</td>\n",
              "      <td>slop</td>\n",
              "      <td>0.000000</td>\n",
              "    </tr>\n",
              "  </tbody>\n",
              "</table>\n",
              "</div>\n",
              "      <button class=\"colab-df-convert\" onclick=\"convertToInteractive('df-f59b61c7-ab8d-450a-921a-75ae61ab92b1')\"\n",
              "              title=\"Convert this dataframe to an interactive table.\"\n",
              "              style=\"display:none;\">\n",
              "        \n",
              "  <svg xmlns=\"http://www.w3.org/2000/svg\" height=\"24px\"viewBox=\"0 0 24 24\"\n",
              "       width=\"24px\">\n",
              "    <path d=\"M0 0h24v24H0V0z\" fill=\"none\"/>\n",
              "    <path d=\"M18.56 5.44l.94 2.06.94-2.06 2.06-.94-2.06-.94-.94-2.06-.94 2.06-2.06.94zm-11 1L8.5 8.5l.94-2.06 2.06-.94-2.06-.94L8.5 2.5l-.94 2.06-2.06.94zm10 10l.94 2.06.94-2.06 2.06-.94-2.06-.94-.94-2.06-.94 2.06-2.06.94z\"/><path d=\"M17.41 7.96l-1.37-1.37c-.4-.4-.92-.59-1.43-.59-.52 0-1.04.2-1.43.59L10.3 9.45l-7.72 7.72c-.78.78-.78 2.05 0 2.83L4 21.41c.39.39.9.59 1.41.59.51 0 1.02-.2 1.41-.59l7.78-7.78 2.81-2.81c.8-.78.8-2.07 0-2.86zM5.41 20L4 18.59l7.72-7.72 1.47 1.35L5.41 20z\"/>\n",
              "  </svg>\n",
              "      </button>\n",
              "      \n",
              "  <style>\n",
              "    .colab-df-container {\n",
              "      display:flex;\n",
              "      flex-wrap:wrap;\n",
              "      gap: 12px;\n",
              "    }\n",
              "\n",
              "    .colab-df-convert {\n",
              "      background-color: #E8F0FE;\n",
              "      border: none;\n",
              "      border-radius: 50%;\n",
              "      cursor: pointer;\n",
              "      display: none;\n",
              "      fill: #1967D2;\n",
              "      height: 32px;\n",
              "      padding: 0 0 0 0;\n",
              "      width: 32px;\n",
              "    }\n",
              "\n",
              "    .colab-df-convert:hover {\n",
              "      background-color: #E2EBFA;\n",
              "      box-shadow: 0px 1px 2px rgba(60, 64, 67, 0.3), 0px 1px 3px 1px rgba(60, 64, 67, 0.15);\n",
              "      fill: #174EA6;\n",
              "    }\n",
              "\n",
              "    [theme=dark] .colab-df-convert {\n",
              "      background-color: #3B4455;\n",
              "      fill: #D2E3FC;\n",
              "    }\n",
              "\n",
              "    [theme=dark] .colab-df-convert:hover {\n",
              "      background-color: #434B5C;\n",
              "      box-shadow: 0px 1px 3px 1px rgba(0, 0, 0, 0.15);\n",
              "      filter: drop-shadow(0px 1px 2px rgba(0, 0, 0, 0.3));\n",
              "      fill: #FFFFFF;\n",
              "    }\n",
              "  </style>\n",
              "\n",
              "      <script>\n",
              "        const buttonEl =\n",
              "          document.querySelector('#df-f59b61c7-ab8d-450a-921a-75ae61ab92b1 button.colab-df-convert');\n",
              "        buttonEl.style.display =\n",
              "          google.colab.kernel.accessAllowed ? 'block' : 'none';\n",
              "\n",
              "        async function convertToInteractive(key) {\n",
              "          const element = document.querySelector('#df-f59b61c7-ab8d-450a-921a-75ae61ab92b1');\n",
              "          const dataTable =\n",
              "            await google.colab.kernel.invokeFunction('convertToInteractive',\n",
              "                                                     [key], {});\n",
              "          if (!dataTable) return;\n",
              "\n",
              "          const docLinkHtml = 'Like what you see? Visit the ' +\n",
              "            '<a target=\"_blank\" href=https://colab.research.google.com/notebooks/data_table.ipynb>data table notebook</a>'\n",
              "            + ' to learn more about interactive tables.';\n",
              "          element.innerHTML = '';\n",
              "          dataTable['output_type'] = 'display_data';\n",
              "          await google.colab.output.renderOutput(dataTable, element);\n",
              "          const docLink = document.createElement('div');\n",
              "          docLink.innerHTML = docLinkHtml;\n",
              "          element.appendChild(docLink);\n",
              "        }\n",
              "      </script>\n",
              "    </div>\n",
              "  </div>\n",
              "  "
            ],
            "text/plain": [
              "    index  Variable  Feature Importance Score\n",
              "0      11        ca                  0.322404\n",
              "1       0       age                  0.156383\n",
              "2       2        cp                  0.126688\n",
              "3      12      thal                  0.100949\n",
              "4       4      chol                  0.092812\n",
              "5       3  trestbps                  0.075536\n",
              "6       9   oldpeak                  0.070810\n",
              "7       7   thalach                  0.039570\n",
              "8       5       fbs                  0.009522\n",
              "9       6   restecg                  0.005326\n",
              "10      1       sex                  0.000000\n",
              "11      8     exang                  0.000000\n",
              "12     10      slop                  0.000000"
            ]
          },
          "metadata": {},
          "execution_count": 44
        }
      ]
    },
    {
      "cell_type": "code",
      "source": [
        "#I prefer this visualization \n",
        "from sklearn import tree\n",
        "import graphviz \n",
        "\n",
        "dot_data = tree.export_graphviz(dtree, out_file=None, \n",
        "    feature_names=df.drop('target', axis=1).columns,    \n",
        "    class_names=df['target'].unique().astype(str),  \n",
        "    filled=True, rounded=True,  \n",
        "    special_characters=True)\n",
        "graph = graphviz.Source(dot_data)\n",
        "graph\n",
        "graph.render('HeartDisease_decisionTree.svg', format='svg', directory='output').replace('\\\\', '/')\n"
      ],
      "metadata": {
        "colab": {
          "base_uri": "https://localhost:8080/",
          "height": 35
        },
        "id": "wKV4BF9B48YZ",
        "outputId": "362c6ad4-0d60-4401-f43e-d23dfb3ba974"
      },
      "execution_count": 47,
      "outputs": [
        {
          "output_type": "execute_result",
          "data": {
            "application/vnd.google.colaboratory.intrinsic+json": {
              "type": "string"
            },
            "text/plain": [
              "'output/HeartDisease_decisionTree.svg.svg'"
            ]
          },
          "metadata": {},
          "execution_count": 47
        }
      ]
    },
    {
      "cell_type": "code",
      "source": [
        "print(classification_report(y_test,pred))\n"
      ],
      "metadata": {
        "colab": {
          "base_uri": "https://localhost:8080/"
        },
        "id": "nYolQLSX5VI8",
        "outputId": "be3ec6b4-bdf0-4c0c-d9a7-3586596be90a"
      },
      "execution_count": 49,
      "outputs": [
        {
          "output_type": "stream",
          "name": "stdout",
          "text": [
            "              precision    recall  f1-score   support\n",
            "\n",
            "           N       0.72      0.79      0.76        53\n",
            "           Y       0.73      0.65      0.69        46\n",
            "\n",
            "    accuracy                           0.73        99\n",
            "   macro avg       0.73      0.72      0.72        99\n",
            "weighted avg       0.73      0.73      0.73        99\n",
            "\n"
          ]
        }
      ]
    },
    {
      "cell_type": "markdown",
      "source": [
        "<h4>Let's see how much the model improves with Random Forest</h4>"
      ],
      "metadata": {
        "id": "3CPphMN37Myq"
      }
    },
    {
      "cell_type": "code",
      "source": [
        "from sklearn.ensemble import RandomForestClassifier"
      ],
      "metadata": {
        "id": "2uP-rtZD6pAI"
      },
      "execution_count": 50,
      "outputs": []
    },
    {
      "cell_type": "code",
      "source": [
        "rforest = RandomForestClassifier(n_estimators=100)\n",
        "rforest.fit(X_train, y_train)"
      ],
      "metadata": {
        "colab": {
          "base_uri": "https://localhost:8080/"
        },
        "id": "PH4esS6B8Sld",
        "outputId": "932acdc0-4c25-4dac-8e74-83cbd1ce11f5"
      },
      "execution_count": 51,
      "outputs": [
        {
          "output_type": "execute_result",
          "data": {
            "text/plain": [
              "RandomForestClassifier()"
            ]
          },
          "metadata": {},
          "execution_count": 51
        }
      ]
    },
    {
      "cell_type": "code",
      "source": [
        "rf_pred = rforest.predict(X_test)"
      ],
      "metadata": {
        "id": "yribGaJy8fZ-"
      },
      "execution_count": 52,
      "outputs": []
    },
    {
      "cell_type": "code",
      "source": [
        "for i, column in enumerate(df.drop('target', axis=1)):\n",
        "    print('Importance of feature {}:, {:.3f}'.format(column, rforest.feature_importances_[i]))\n",
        "    \n",
        "    fi = pd.DataFrame({'Variable': [column],\n",
        "                       'Feature Importance Score': [rforest.feature_importances_[i]]})\n",
        "    \n",
        "    try: #the others values\n",
        "        final_fi = pd.concat([final_fi,fi], ignore_index = True)\n",
        "    except: #the first value\n",
        "        final_fi = fi\n",
        "        \n",
        "        \n",
        "# Ordering the data\n",
        "final_fi = final_fi.sort_values('Feature Importance Score', ascending = False).reset_index()            \n",
        "final_fi"
      ],
      "metadata": {
        "colab": {
          "base_uri": "https://localhost:8080/",
          "height": 1000
        },
        "id": "nsvdn8Qv8mQU",
        "outputId": "27554c19-c454-42fa-ff77-2eb7ad6ea529"
      },
      "execution_count": 53,
      "outputs": [
        {
          "output_type": "stream",
          "name": "stdout",
          "text": [
            "Importance of feature age:, 0.102\n",
            "Importance of feature sex:, 0.033\n",
            "Importance of feature cp:, 0.121\n",
            "Importance of feature trestbps:, 0.076\n",
            "Importance of feature chol:, 0.096\n",
            "Importance of feature fbs:, 0.011\n",
            "Importance of feature restecg:, 0.017\n",
            "Importance of feature thalach:, 0.113\n",
            "Importance of feature exang:, 0.030\n",
            "Importance of feature oldpeak:, 0.104\n",
            "Importance of feature slop:, 0.020\n",
            "Importance of feature ca:, 0.177\n",
            "Importance of feature thal:, 0.101\n"
          ]
        },
        {
          "output_type": "execute_result",
          "data": {
            "text/html": [
              "\n",
              "  <div id=\"df-cdeff6f7-27d3-4188-ae74-28c9ce2dc86a\">\n",
              "    <div class=\"colab-df-container\">\n",
              "      <div>\n",
              "<style scoped>\n",
              "    .dataframe tbody tr th:only-of-type {\n",
              "        vertical-align: middle;\n",
              "    }\n",
              "\n",
              "    .dataframe tbody tr th {\n",
              "        vertical-align: top;\n",
              "    }\n",
              "\n",
              "    .dataframe thead th {\n",
              "        text-align: right;\n",
              "    }\n",
              "</style>\n",
              "<table border=\"1\" class=\"dataframe\">\n",
              "  <thead>\n",
              "    <tr style=\"text-align: right;\">\n",
              "      <th></th>\n",
              "      <th>level_0</th>\n",
              "      <th>index</th>\n",
              "      <th>Variable</th>\n",
              "      <th>Feature Importance Score</th>\n",
              "    </tr>\n",
              "  </thead>\n",
              "  <tbody>\n",
              "    <tr>\n",
              "      <th>0</th>\n",
              "      <td>0</td>\n",
              "      <td>11.0</td>\n",
              "      <td>ca</td>\n",
              "      <td>0.322404</td>\n",
              "    </tr>\n",
              "    <tr>\n",
              "      <th>1</th>\n",
              "      <td>24</td>\n",
              "      <td>NaN</td>\n",
              "      <td>ca</td>\n",
              "      <td>0.176517</td>\n",
              "    </tr>\n",
              "    <tr>\n",
              "      <th>2</th>\n",
              "      <td>1</td>\n",
              "      <td>0.0</td>\n",
              "      <td>age</td>\n",
              "      <td>0.156383</td>\n",
              "    </tr>\n",
              "    <tr>\n",
              "      <th>3</th>\n",
              "      <td>2</td>\n",
              "      <td>2.0</td>\n",
              "      <td>cp</td>\n",
              "      <td>0.126688</td>\n",
              "    </tr>\n",
              "    <tr>\n",
              "      <th>4</th>\n",
              "      <td>15</td>\n",
              "      <td>NaN</td>\n",
              "      <td>cp</td>\n",
              "      <td>0.121253</td>\n",
              "    </tr>\n",
              "    <tr>\n",
              "      <th>5</th>\n",
              "      <td>20</td>\n",
              "      <td>NaN</td>\n",
              "      <td>thalach</td>\n",
              "      <td>0.113393</td>\n",
              "    </tr>\n",
              "    <tr>\n",
              "      <th>6</th>\n",
              "      <td>22</td>\n",
              "      <td>NaN</td>\n",
              "      <td>oldpeak</td>\n",
              "      <td>0.103757</td>\n",
              "    </tr>\n",
              "    <tr>\n",
              "      <th>7</th>\n",
              "      <td>13</td>\n",
              "      <td>NaN</td>\n",
              "      <td>age</td>\n",
              "      <td>0.101774</td>\n",
              "    </tr>\n",
              "    <tr>\n",
              "      <th>8</th>\n",
              "      <td>25</td>\n",
              "      <td>NaN</td>\n",
              "      <td>thal</td>\n",
              "      <td>0.100957</td>\n",
              "    </tr>\n",
              "    <tr>\n",
              "      <th>9</th>\n",
              "      <td>3</td>\n",
              "      <td>12.0</td>\n",
              "      <td>thal</td>\n",
              "      <td>0.100949</td>\n",
              "    </tr>\n",
              "    <tr>\n",
              "      <th>10</th>\n",
              "      <td>17</td>\n",
              "      <td>NaN</td>\n",
              "      <td>chol</td>\n",
              "      <td>0.096343</td>\n",
              "    </tr>\n",
              "    <tr>\n",
              "      <th>11</th>\n",
              "      <td>4</td>\n",
              "      <td>4.0</td>\n",
              "      <td>chol</td>\n",
              "      <td>0.092812</td>\n",
              "    </tr>\n",
              "    <tr>\n",
              "      <th>12</th>\n",
              "      <td>16</td>\n",
              "      <td>NaN</td>\n",
              "      <td>trestbps</td>\n",
              "      <td>0.075933</td>\n",
              "    </tr>\n",
              "    <tr>\n",
              "      <th>13</th>\n",
              "      <td>5</td>\n",
              "      <td>3.0</td>\n",
              "      <td>trestbps</td>\n",
              "      <td>0.075536</td>\n",
              "    </tr>\n",
              "    <tr>\n",
              "      <th>14</th>\n",
              "      <td>6</td>\n",
              "      <td>9.0</td>\n",
              "      <td>oldpeak</td>\n",
              "      <td>0.070810</td>\n",
              "    </tr>\n",
              "    <tr>\n",
              "      <th>15</th>\n",
              "      <td>7</td>\n",
              "      <td>7.0</td>\n",
              "      <td>thalach</td>\n",
              "      <td>0.039570</td>\n",
              "    </tr>\n",
              "    <tr>\n",
              "      <th>16</th>\n",
              "      <td>14</td>\n",
              "      <td>NaN</td>\n",
              "      <td>sex</td>\n",
              "      <td>0.032878</td>\n",
              "    </tr>\n",
              "    <tr>\n",
              "      <th>17</th>\n",
              "      <td>21</td>\n",
              "      <td>NaN</td>\n",
              "      <td>exang</td>\n",
              "      <td>0.029655</td>\n",
              "    </tr>\n",
              "    <tr>\n",
              "      <th>18</th>\n",
              "      <td>23</td>\n",
              "      <td>NaN</td>\n",
              "      <td>slop</td>\n",
              "      <td>0.019915</td>\n",
              "    </tr>\n",
              "    <tr>\n",
              "      <th>19</th>\n",
              "      <td>19</td>\n",
              "      <td>NaN</td>\n",
              "      <td>restecg</td>\n",
              "      <td>0.017039</td>\n",
              "    </tr>\n",
              "    <tr>\n",
              "      <th>20</th>\n",
              "      <td>18</td>\n",
              "      <td>NaN</td>\n",
              "      <td>fbs</td>\n",
              "      <td>0.010586</td>\n",
              "    </tr>\n",
              "    <tr>\n",
              "      <th>21</th>\n",
              "      <td>8</td>\n",
              "      <td>5.0</td>\n",
              "      <td>fbs</td>\n",
              "      <td>0.009522</td>\n",
              "    </tr>\n",
              "    <tr>\n",
              "      <th>22</th>\n",
              "      <td>9</td>\n",
              "      <td>6.0</td>\n",
              "      <td>restecg</td>\n",
              "      <td>0.005326</td>\n",
              "    </tr>\n",
              "    <tr>\n",
              "      <th>23</th>\n",
              "      <td>11</td>\n",
              "      <td>8.0</td>\n",
              "      <td>exang</td>\n",
              "      <td>0.000000</td>\n",
              "    </tr>\n",
              "    <tr>\n",
              "      <th>24</th>\n",
              "      <td>12</td>\n",
              "      <td>10.0</td>\n",
              "      <td>slop</td>\n",
              "      <td>0.000000</td>\n",
              "    </tr>\n",
              "    <tr>\n",
              "      <th>25</th>\n",
              "      <td>10</td>\n",
              "      <td>1.0</td>\n",
              "      <td>sex</td>\n",
              "      <td>0.000000</td>\n",
              "    </tr>\n",
              "  </tbody>\n",
              "</table>\n",
              "</div>\n",
              "      <button class=\"colab-df-convert\" onclick=\"convertToInteractive('df-cdeff6f7-27d3-4188-ae74-28c9ce2dc86a')\"\n",
              "              title=\"Convert this dataframe to an interactive table.\"\n",
              "              style=\"display:none;\">\n",
              "        \n",
              "  <svg xmlns=\"http://www.w3.org/2000/svg\" height=\"24px\"viewBox=\"0 0 24 24\"\n",
              "       width=\"24px\">\n",
              "    <path d=\"M0 0h24v24H0V0z\" fill=\"none\"/>\n",
              "    <path d=\"M18.56 5.44l.94 2.06.94-2.06 2.06-.94-2.06-.94-.94-2.06-.94 2.06-2.06.94zm-11 1L8.5 8.5l.94-2.06 2.06-.94-2.06-.94L8.5 2.5l-.94 2.06-2.06.94zm10 10l.94 2.06.94-2.06 2.06-.94-2.06-.94-.94-2.06-.94 2.06-2.06.94z\"/><path d=\"M17.41 7.96l-1.37-1.37c-.4-.4-.92-.59-1.43-.59-.52 0-1.04.2-1.43.59L10.3 9.45l-7.72 7.72c-.78.78-.78 2.05 0 2.83L4 21.41c.39.39.9.59 1.41.59.51 0 1.02-.2 1.41-.59l7.78-7.78 2.81-2.81c.8-.78.8-2.07 0-2.86zM5.41 20L4 18.59l7.72-7.72 1.47 1.35L5.41 20z\"/>\n",
              "  </svg>\n",
              "      </button>\n",
              "      \n",
              "  <style>\n",
              "    .colab-df-container {\n",
              "      display:flex;\n",
              "      flex-wrap:wrap;\n",
              "      gap: 12px;\n",
              "    }\n",
              "\n",
              "    .colab-df-convert {\n",
              "      background-color: #E8F0FE;\n",
              "      border: none;\n",
              "      border-radius: 50%;\n",
              "      cursor: pointer;\n",
              "      display: none;\n",
              "      fill: #1967D2;\n",
              "      height: 32px;\n",
              "      padding: 0 0 0 0;\n",
              "      width: 32px;\n",
              "    }\n",
              "\n",
              "    .colab-df-convert:hover {\n",
              "      background-color: #E2EBFA;\n",
              "      box-shadow: 0px 1px 2px rgba(60, 64, 67, 0.3), 0px 1px 3px 1px rgba(60, 64, 67, 0.15);\n",
              "      fill: #174EA6;\n",
              "    }\n",
              "\n",
              "    [theme=dark] .colab-df-convert {\n",
              "      background-color: #3B4455;\n",
              "      fill: #D2E3FC;\n",
              "    }\n",
              "\n",
              "    [theme=dark] .colab-df-convert:hover {\n",
              "      background-color: #434B5C;\n",
              "      box-shadow: 0px 1px 3px 1px rgba(0, 0, 0, 0.15);\n",
              "      filter: drop-shadow(0px 1px 2px rgba(0, 0, 0, 0.3));\n",
              "      fill: #FFFFFF;\n",
              "    }\n",
              "  </style>\n",
              "\n",
              "      <script>\n",
              "        const buttonEl =\n",
              "          document.querySelector('#df-cdeff6f7-27d3-4188-ae74-28c9ce2dc86a button.colab-df-convert');\n",
              "        buttonEl.style.display =\n",
              "          google.colab.kernel.accessAllowed ? 'block' : 'none';\n",
              "\n",
              "        async function convertToInteractive(key) {\n",
              "          const element = document.querySelector('#df-cdeff6f7-27d3-4188-ae74-28c9ce2dc86a');\n",
              "          const dataTable =\n",
              "            await google.colab.kernel.invokeFunction('convertToInteractive',\n",
              "                                                     [key], {});\n",
              "          if (!dataTable) return;\n",
              "\n",
              "          const docLinkHtml = 'Like what you see? Visit the ' +\n",
              "            '<a target=\"_blank\" href=https://colab.research.google.com/notebooks/data_table.ipynb>data table notebook</a>'\n",
              "            + ' to learn more about interactive tables.';\n",
              "          element.innerHTML = '';\n",
              "          dataTable['output_type'] = 'display_data';\n",
              "          await google.colab.output.renderOutput(dataTable, element);\n",
              "          const docLink = document.createElement('div');\n",
              "          docLink.innerHTML = docLinkHtml;\n",
              "          element.appendChild(docLink);\n",
              "        }\n",
              "      </script>\n",
              "    </div>\n",
              "  </div>\n",
              "  "
            ],
            "text/plain": [
              "    level_0  index  Variable  Feature Importance Score\n",
              "0         0   11.0        ca                  0.322404\n",
              "1        24    NaN        ca                  0.176517\n",
              "2         1    0.0       age                  0.156383\n",
              "3         2    2.0        cp                  0.126688\n",
              "4        15    NaN        cp                  0.121253\n",
              "5        20    NaN   thalach                  0.113393\n",
              "6        22    NaN   oldpeak                  0.103757\n",
              "7        13    NaN       age                  0.101774\n",
              "8        25    NaN      thal                  0.100957\n",
              "9         3   12.0      thal                  0.100949\n",
              "10       17    NaN      chol                  0.096343\n",
              "11        4    4.0      chol                  0.092812\n",
              "12       16    NaN  trestbps                  0.075933\n",
              "13        5    3.0  trestbps                  0.075536\n",
              "14        6    9.0   oldpeak                  0.070810\n",
              "15        7    7.0   thalach                  0.039570\n",
              "16       14    NaN       sex                  0.032878\n",
              "17       21    NaN     exang                  0.029655\n",
              "18       23    NaN      slop                  0.019915\n",
              "19       19    NaN   restecg                  0.017039\n",
              "20       18    NaN       fbs                  0.010586\n",
              "21        8    5.0       fbs                  0.009522\n",
              "22        9    6.0   restecg                  0.005326\n",
              "23       11    8.0     exang                  0.000000\n",
              "24       12   10.0      slop                  0.000000\n",
              "25       10    1.0       sex                  0.000000"
            ]
          },
          "metadata": {},
          "execution_count": 53
        }
      ]
    },
    {
      "cell_type": "code",
      "source": [
        "print(classification_report(y_test,rf_pred))\n"
      ],
      "metadata": {
        "colab": {
          "base_uri": "https://localhost:8080/"
        },
        "id": "ouGAC5LZ85QP",
        "outputId": "0dffc154-eaf6-4b76-d726-17cc01a6b4bd"
      },
      "execution_count": 54,
      "outputs": [
        {
          "output_type": "stream",
          "name": "stdout",
          "text": [
            "              precision    recall  f1-score   support\n",
            "\n",
            "           N       0.81      0.89      0.85        53\n",
            "           Y       0.85      0.76      0.80        46\n",
            "\n",
            "    accuracy                           0.83        99\n",
            "   macro avg       0.83      0.82      0.83        99\n",
            "weighted avg       0.83      0.83      0.83        99\n",
            "\n"
          ]
        }
      ]
    },
    {
      "cell_type": "code",
      "source": [
        "cm = confusion_matrix(y_test, rf_pred)\n",
        "cm_norm = cm/cm.sum(axis=1)[:, np.newaxis]\n",
        "plt.figure()\n",
        "plot_confusion_matrix(cm_norm, classes=rforest.classes_,\n",
        "                      title='\\nTraining confusion\\n\\n')"
      ],
      "metadata": {
        "colab": {
          "base_uri": "https://localhost:8080/",
          "height": 340
        },
        "id": "W2cTtzio861l",
        "outputId": "4a143fd0-65a4-461d-9b80-5335b477b73b"
      },
      "execution_count": 55,
      "outputs": [
        {
          "output_type": "display_data",
          "data": {
            "image/png": "[encoded data removed]",
            "text/plain": [
              "<Figure size 432x288 with 2 Axes>"
            ]
          },
          "metadata": {
            "needs_background": "light"
          }
        }
      ]
    },
    {
      "cell_type": "markdown",
      "source": [
        ""
      ],
      "metadata": {
        "id": "K-4TRnrt9JCM"
      }
    },
    {
      "cell_type": "code",
      "source": [
        ""
      ],
      "metadata": {
        "id": "AUrnr9Aq9Drd"
      },
      "execution_count": null,
      "outputs": []
    }
  ]
}