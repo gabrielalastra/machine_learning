{
  "nbformat": 4,
  "nbformat_minor": 0,
  "metadata": {
    "colab": {
      "name": "Tensor_01.ipynb",
      "provenance": []
    },
    "kernelspec": {
      "name": "python3",
      "display_name": "Python 3"
    },
    "language_info": {
      "name": "python"
    }
  },
  "cells": [
    {
      "cell_type": "code",
      "source": [
        "import tensorflow as tf"
      ],
      "metadata": {
        "id": "HLBh45NCq3Zg"
      },
      "execution_count": 1,
      "outputs": []
    },
    {
      "cell_type": "markdown",
      "source": [
        "<h3>Creating a Tensors</h3>\n",
        "<h4>Below is an example of how to create some different tensors</h4>\n",
        "<hr>"
      ],
      "metadata": {
        "id": "85orY2lSrBa-"
      }
    },
    {
      "cell_type": "code",
      "execution_count": 2,
      "metadata": {
        "id": "q0NwCEHHh-qt"
      },
      "outputs": [],
      "source": [
        "#creating tensors\n",
        "string = tf.Variable(\"this is a string \", tf.string)\n",
        "number = tf.Variable(324, tf.int16)\n",
        "floating = tf.Variable(3.214, tf.float64)"
      ]
    },
    {
      "cell_type": "markdown",
      "source": [
        "<h4>Rank/Degree of Tensors</h4>\n",
        "<h5>Another word for rank is degree; these terms simply mean the number of dimensions involved in the tensor. What we created above is a tensor of rank 0, also known as a scalar.\n",
        "Now let's create some tensors of higher degree/ranks.</h5>\n",
        "<hr>"
      ],
      "metadata": {
        "id": "gbJ9WKPEruvw"
      }
    },
    {
      "cell_type": "code",
      "source": [
        "rank1_tensor = tf.Variable(['Text', 'OK', 'Gabi'], tf.string)\n",
        "#matrix\n",
        "rank2_tensor = tf.Variable([['Test', 'ok','lalala'], ['yes', 'no', 'maybe']], tf.string)"
      ],
      "metadata": {
        "id": "cowJaTJFqb0A"
      },
      "execution_count": 3,
      "outputs": []
    },
    {
      "cell_type": "markdown",
      "source": [
        "To determine the rank of a tensor, call the following method."
      ],
      "metadata": {
        "id": "ALSYf2PlsXqB"
      }
    },
    {
      "cell_type": "code",
      "source": [
        "tf.rank(rank2_tensor)"
      ],
      "metadata": {
        "colab": {
          "base_uri": "https://localhost:8080/"
        },
        "id": "MY2d6mJ0rrwM",
        "outputId": "f5995ad0-2e77-4599-d069-7007e1f62cf9"
      },
      "execution_count": 4,
      "outputs": [
        {
          "output_type": "execute_result",
          "data": {
            "text/plain": [
              "<tf.Tensor 'Rank:0' shape=() dtype=int32>"
            ]
          },
          "metadata": {},
          "execution_count": 4
        }
      ]
    },
    {
      "cell_type": "code",
      "source": [
        "rank2_tensor.shape"
      ],
      "metadata": {
        "colab": {
          "base_uri": "https://localhost:8080/"
        },
        "id": "n0YYn3pFsNfn",
        "outputId": "64461377-d4a8-42a2-fb97-891ef46715e2"
      },
      "execution_count": 5,
      "outputs": [
        {
          "output_type": "execute_result",
          "data": {
            "text/plain": [
              "TensorShape([Dimension(2), Dimension(3)])"
            ]
          },
          "metadata": {},
          "execution_count": 5
        }
      ]
    },
    {
      "cell_type": "markdown",
      "source": [
        "<h4>Changing the Shape</h4>\n",
        "<h5>The number of elements of a tensor is the product of the sizes of all the shapes. There are often many shapes that have the same number of elements, making it convient to be able to change the shape of a tensor.</h5>\n",
        "<hr>"
      ],
      "metadata": {
        "id": "wUWoojdks63c"
      }
    },
    {
      "cell_type": "code",
      "source": [
        "tensor1 = tf.ones([1,2,3])\n",
        "print(tensor1)\n",
        "tensor2 = tf.reshape(tensor1, [2,3,1])\n",
        "print(tensor2)\n",
        "tensor3 = tf.reshape(tensor2, [3,-1])\n",
        "print(tensor3)"
      ],
      "metadata": {
        "colab": {
          "base_uri": "https://localhost:8080/"
        },
        "id": "nio123Vfshll",
        "outputId": "abf27b66-7a3e-49c7-f3cf-62b493888bef"
      },
      "execution_count": 6,
      "outputs": [
        {
          "output_type": "stream",
          "name": "stdout",
          "text": [
            "Tensor(\"ones:0\", shape=(1, 2, 3), dtype=float32)\n",
            "Tensor(\"Reshape:0\", shape=(2, 3, 1), dtype=float32)\n",
            "Tensor(\"Reshape_1:0\", shape=(3, 2), dtype=float32)\n"
          ]
        }
      ]
    },
    {
      "cell_type": "markdown",
      "source": [
        "<h4>Types of Tensors</h4>\n",
        "<h5><li>Variable\n",
        "<li>Constant\n",
        "<li>Placeholder\n",
        "<li>SparseTensor\n",
        "\n",
        "Only the type Variable is muttable, meaning the others value <br>may not change during the execution.</h5>\n",
        "<hr>"
      ],
      "metadata": {
        "id": "aOyMez7ourVy"
      }
    },
    {
      "cell_type": "markdown",
      "source": [
        "<h4>Evaluating Tensors</h4>\n",
        "<h5>Since tensor represent a partially complete computation, <br>somentimes we need to run what's called a session to evaluate the tensor, get its value.</h5>\n",
        "<hr>"
      ],
      "metadata": {
        "id": "v47M70eGvYYz"
      }
    },
    {
      "cell_type": "code",
      "source": [
        "with tf.Session() as sess:\n",
        "  tensor1.eval()"
      ],
      "metadata": {
        "id": "4DYfzpuGtk7g"
      },
      "execution_count": 8,
      "outputs": []
    },
    {
      "cell_type": "markdown",
      "source": [
        "<h4>TensorFlow Core Learning Algorithms</h4>\n",
        "<h5>4 fundamental machine learning algorithm\n",
        "<li> Linear Regression\n",
        "<li> Classification\n",
        "<li> Ckustering\n",
        "<li> Hidden Markov Models</h5>\n",
        "<h1 align='center'> 🏌 </h1>"
      ],
      "metadata": {
        "id": "r5HyPye5xvXZ"
      }
    },
    {
      "cell_type": "markdown",
      "source": [
        "<h4>Linear Regression</h4>\n",
        "<h5>Its used to predict numeric values.\n",
        "If data points are related linearly we can generate a line of best fit for those points and use it to predict future values.</h5>\n",
        "<hr>"
      ],
      "metadata": {
        "id": "S2swDLyZz1gN"
      }
    },
    {
      "cell_type": "code",
      "source": [
        "import pandas as pd\n",
        "import numpy as np\n",
        "import matplotlib.pyplot as plt\n"
      ],
      "metadata": {
        "id": "X2RDNppMy_KO"
      },
      "execution_count": 26,
      "outputs": []
    },
    {
      "cell_type": "code",
      "source": [
        "x = [1,2,3,4,4,9,5,6,8,9]\n",
        "y = [2,4,-1,0,5,8,2,10,2,4]\n",
        "plt.plot(x,y, 'ro')\n",
        "plt.axis([-3,10,-3,15])"
      ],
      "metadata": {
        "colab": {
          "base_uri": "https://localhost:8080/",
          "height": 282
        },
        "id": "hxzhrHc81QjU",
        "outputId": "f9383c53-bb30-4721-f50a-524aeb0b44ba"
      },
      "execution_count": 20,
      "outputs": [
        {
          "output_type": "execute_result",
          "data": {
            "text/plain": [
              "(-3.0, 10.0, -3.0, 15.0)"
            ]
          },
          "metadata": {},
          "execution_count": 20
        },
        {
          "output_type": "display_data",
          "data": {
            "image/png": "[encoded data removed]",
            "text/plain": [
              "<Figure size 432x288 with 1 Axes>"
            ]
          },
          "metadata": {
            "needs_background": "light"
          }
        }
      ]
    },
    {
      "cell_type": "markdown",
      "source": [
        "Line in 2 dimensions: y=ax+b\n",
        "\n",
        "<img height=300 align=\"right\" src=\"https://upload.wikimedia.org/wikipedia/commons/thumb/9/9e/Reta_Regressora.jpg/374px-Reta_Regressora.jpg\"/>\n",
        "\n",
        "<img height=300 align=\"left\" src=\"data:image/jpeg;base64,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\"/>"
      ],
      "metadata": {
        "id": "ubiAyHqL3Ye8"
      }
    },
    {
      "cell_type": "code",
      "source": [
        "\n",
        "plt.plot(x,y,'ro')\n",
        "plt.axis([-3,10,-3,15])\n",
        "plt.plot(np.unique(x), np.poly1d(np.polyfit(x,y,1))(np.unique(x)))\n"
      ],
      "metadata": {
        "colab": {
          "base_uri": "https://localhost:8080/",
          "height": 282
        },
        "id": "Pyggvx_w1eMj",
        "outputId": "e9248776-f536-4aef-93eb-6738fc71115e"
      },
      "execution_count": 21,
      "outputs": [
        {
          "output_type": "execute_result",
          "data": {
            "text/plain": [
              "[<matplotlib.lines.Line2D at 0x7ff05effd390>]"
            ]
          },
          "metadata": {},
          "execution_count": 21
        },
        {
          "output_type": "display_data",
          "data": {
            "image/png": "[encoded data removed]",
            "text/plain": [
              "<Figure size 432x288 with 1 Axes>"
            ]
          },
          "metadata": {
            "needs_background": "light"
          }
        }
      ]
    }
  ]
}